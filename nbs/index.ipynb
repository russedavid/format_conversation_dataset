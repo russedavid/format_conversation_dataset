{
 "cells": [
  {
   "cell_type": "code",
   "execution_count": null,
   "metadata": {},
   "outputs": [],
   "source": [
    "#| hide\n",
    "from format_conversation_dataset.format_transcription import *"
   ]
  },
  {
   "cell_type": "markdown",
   "metadata": {},
   "source": [
    "# format_conversation_dataset\n",
    "\n",
    "> tools for formatting datasets for fine tuning"
   ]
  },
  {
   "cell_type": "markdown",
   "metadata": {},
   "source": [
    "Convert your diarized content into a dataset that can be used to finetune a model!"
   ]
  },
  {
   "cell_type": "markdown",
   "metadata": {},
   "source": [
    "## Install"
   ]
  },
  {
   "cell_type": "markdown",
   "metadata": {},
   "source": [
    "```sh\n",
    "pip install format_conversation_dataset\n",
    "```"
   ]
  },
  {
   "cell_type": "markdown",
   "metadata": {},
   "source": [
    "## How to use"
   ]
  },
  {
   "cell_type": "markdown",
   "metadata": {},
   "source": [
    "Designate a speaker number as the 'assistant' and supply input and output file paths, and this module with do the rest.\n",
    "\n",
    "from format_covnersation_dataset.core import *\n",
    "\n",
    "convert_file('input/file/path', 'output/file/path', 1, \"You are participating in a conversation\")\n",
    "\n",
    "This will output a json format like so:\n",
    "\n",
    "{'messages': [\n",
    "    {\n",
    "        'role' : 'system',\n",
    "        'content' : 'You are participating in a conversation'\n",
    "    },\n",
    "    {\n",
    "        'role' : 'user',\n",
    "        'content' : 'SPEAKER_02 : Hello everyone SPEAKER_03 : Good morning SPEAKER_04 : Hi' \n",
    "    },\n",
    "    {\n",
    "        'role' : 'assistant',\n",
    "        'content' : 'Hi!' \n",
    "    },    \n",
    "]}"
   ]
  },
  {
   "cell_type": "markdown",
   "metadata": {},
   "source": []
  }
 ],
 "metadata": {
  "kernelspec": {
   "display_name": "python3",
   "language": "python",
   "name": "python3"
  }
 },
 "nbformat": 4,
 "nbformat_minor": 4
}
