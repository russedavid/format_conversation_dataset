{
 "cells": [
  {
   "cell_type": "markdown",
   "metadata": {},
   "source": [
    "# Format conversation transcription\n",
    "\n",
    "> Convert a file containing diarized conversation into finetuning compatible format"
   ]
  },
  {
   "cell_type": "code",
   "execution_count": null,
   "metadata": {},
   "outputs": [],
   "source": [
    "#| default_exp format_transcription"
   ]
  },
  {
   "cell_type": "code",
   "execution_count": null,
   "metadata": {},
   "outputs": [],
   "source": [
    "#| hide\n",
    "from nbdev.showdoc import *"
   ]
  },
  {
   "cell_type": "code",
   "execution_count": null,
   "metadata": {},
   "outputs": [],
   "source": [
    "#| export\n",
    "import json\n",
    "import re\n",
    "\n",
    "def process_speakers(input_text, assistant_speaker, system_context=None):\n",
    "    \"\"\"\n",
    "    Process the input text and convert it to the desired JSON format.\n",
    "\n",
    "    Args:\n",
    "    input_text (str): The input text containing speaker dialogues.\n",
    "    assistant_speaker (str): The speaker number to designate as the assistant.\n",
    "\n",
    "    Returns:\n",
    "    dict: A dictionary containing the processed messages.\n",
    "    \"\"\"\n",
    "    output = [\n",
    "        {\n",
    "            \"role\": \"system\",\n",
    "            \"content\": system_context if system_context else \"You are participating in a conversation with one or more other speakers, and you are facilitating the conversation.\"\n",
    "        },\n",
    "    ]\n",
    "    \n",
    "    lines = input_text.strip().split('\\n')\n",
    "    current_user_content = []\n",
    "    \n",
    "    for line in lines:\n",
    "        match = re.match(r'Speaker SPEAKER_(\\d+):\\s*(.*)', line)\n",
    "        if match:\n",
    "            speaker_num, content = match.groups()\n",
    "            \n",
    "            if speaker_num == assistant_speaker:\n",
    "                if current_user_content:\n",
    "                    output.append({\n",
    "                        \"role\": \"user\",\n",
    "                        \"content\": \" \".join(current_user_content)\n",
    "                    })\n",
    "                    current_user_content = []\n",
    "                \n",
    "                output.append({\n",
    "                    \"role\": \"assistant\",\n",
    "                    \"content\": content.strip()\n",
    "                })\n",
    "            else:\n",
    "                current_user_content.append(f\"Speaker SPEAKER_{speaker_num}: {content.strip()}\")\n",
    "    \n",
    "    if current_user_content:\n",
    "        output.append({\n",
    "            \"role\": \"user\",\n",
    "            \"content\": \" \".join(current_user_content)\n",
    "        })\n",
    "    \n",
    "    return {\"messages\": output}\n",
    "\n",
    "def convert_file(input_file_path, assistant_speaker, output_file_path=None, system_context=None):\n",
    "    \"\"\"\n",
    "    Convert a file containing speaker dialogues to JSON format.\n",
    "\n",
    "    Args:\n",
    "    input_file_path (str): Path to the input text file.\n",
    "    assistant_speaker (str): The speaker number to designate as the assistant.\n",
    "    output_file_path (str, optional): Path to save the output JSON file. If not provided, returns the JSON string.\n",
    "\n",
    "    Returns:\n",
    "    str or None: If output_file_path is not provided, returns the JSON string. Otherwise, saves to file and returns None.\n",
    "    \"\"\"\n",
    "    with open(input_file_path, 'r') as file:\n",
    "        input_text = file.read()\n",
    "\n",
    "    result = process_speakers(input_text, assistant_speaker, system_context)\n",
    "\n",
    "    if output_file_path:\n",
    "        with open(output_file_path, 'w') as file:\n",
    "            json.dump(result, file, indent=4)\n",
    "        return None\n",
    "    else:\n",
    "        return json.dumps(result, indent=4)"
   ]
  },
  {
   "cell_type": "code",
   "execution_count": null,
   "metadata": {},
   "outputs": [],
   "source": [
    "#| hide\n",
    "import nbdev; nbdev.nbdev_export()"
   ]
  }
 ],
 "metadata": {
  "kernelspec": {
   "display_name": "python3",
   "language": "python",
   "name": "python3"
  }
 },
 "nbformat": 4,
 "nbformat_minor": 4
}
